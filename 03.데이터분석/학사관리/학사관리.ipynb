{
 "cells": [
  {
   "cell_type": "code",
   "execution_count": 7,
   "id": "462b6c14",
   "metadata": {},
   "outputs": [],
   "source": [
    "import pandas as pd\n"
   ]
  },
  {
   "cell_type": "code",
   "execution_count": 9,
   "id": "3027a649",
   "metadata": {},
   "outputs": [
    {
     "data": {
      "text/html": [
       "<div>\n",
       "<style scoped>\n",
       "    .dataframe tbody tr th:only-of-type {\n",
       "        vertical-align: middle;\n",
       "    }\n",
       "\n",
       "    .dataframe tbody tr th {\n",
       "        vertical-align: top;\n",
       "    }\n",
       "\n",
       "    .dataframe thead th {\n",
       "        text-align: right;\n",
       "    }\n",
       "</style>\n",
       "<table border=\"1\" class=\"dataframe\">\n",
       "  <thead>\n",
       "    <tr style=\"text-align: right;\">\n",
       "      <th></th>\n",
       "      <th>교수번호</th>\n",
       "      <th>교수이름</th>\n",
       "      <th>교수학과</th>\n",
       "      <th>임용일</th>\n",
       "      <th>교수직급</th>\n",
       "      <th>급여</th>\n",
       "    </tr>\n",
       "  </thead>\n",
       "  <tbody>\n",
       "    <tr>\n",
       "      <th>0</th>\n",
       "      <td>221</td>\n",
       "      <td>이병렬</td>\n",
       "      <td>전산</td>\n",
       "      <td>75/04/03</td>\n",
       "      <td>정교수</td>\n",
       "      <td>3000000</td>\n",
       "    </tr>\n",
       "    <tr>\n",
       "      <th>1</th>\n",
       "      <td>228</td>\n",
       "      <td>이재광</td>\n",
       "      <td>전산</td>\n",
       "      <td>91/09/19</td>\n",
       "      <td>부교수</td>\n",
       "      <td>2500000</td>\n",
       "    </tr>\n",
       "    <tr>\n",
       "      <th>2</th>\n",
       "      <td>311</td>\n",
       "      <td>강승일</td>\n",
       "      <td>전자</td>\n",
       "      <td>94/06/09</td>\n",
       "      <td>부교수</td>\n",
       "      <td>2300000</td>\n",
       "    </tr>\n",
       "    <tr>\n",
       "      <th>3</th>\n",
       "      <td>509</td>\n",
       "      <td>오문환</td>\n",
       "      <td>건축</td>\n",
       "      <td>92/10/14</td>\n",
       "      <td>조교수</td>\n",
       "      <td>2000000</td>\n",
       "    </tr>\n",
       "  </tbody>\n",
       "</table>\n",
       "</div>"
      ],
      "text/plain": [
       "   교수번호 교수이름 교수학과       임용일 교수직급       급여\n",
       "0   221  이병렬   전산  75/04/03  정교수  3000000\n",
       "1   228  이재광   전산  91/09/19  부교수  2500000\n",
       "2   311  강승일   전자  94/06/09  부교수  2300000\n",
       "3   509  오문환   건축  92/10/14  조교수  2000000"
      ]
     },
     "execution_count": 9,
     "metadata": {},
     "output_type": "execute_result"
    }
   ],
   "source": [
    "prof = pd.read_csv('교수.csv')\n",
    "prof"
   ]
  },
  {
   "cell_type": "code",
   "execution_count": 10,
   "id": "c7208dd6",
   "metadata": {},
   "outputs": [
    {
     "data": {
      "text/html": [
       "<div>\n",
       "<style scoped>\n",
       "    .dataframe tbody tr th:only-of-type {\n",
       "        vertical-align: middle;\n",
       "    }\n",
       "\n",
       "    .dataframe tbody tr th {\n",
       "        vertical-align: top;\n",
       "    }\n",
       "\n",
       "    .dataframe thead th {\n",
       "        text-align: right;\n",
       "    }\n",
       "</style>\n",
       "<table border=\"1\" class=\"dataframe\">\n",
       "  <thead>\n",
       "    <tr style=\"text-align: right;\">\n",
       "      <th></th>\n",
       "      <th>교수번호</th>\n",
       "      <th>교수이름</th>\n",
       "      <th>교수학과</th>\n",
       "      <th>임용일</th>\n",
       "      <th>교수직급</th>\n",
       "      <th>급여</th>\n",
       "    </tr>\n",
       "  </thead>\n",
       "  <tbody>\n",
       "    <tr>\n",
       "      <th>0</th>\n",
       "      <td>221</td>\n",
       "      <td>이병렬</td>\n",
       "      <td>전산</td>\n",
       "      <td>75/04/03</td>\n",
       "      <td>정교수</td>\n",
       "      <td>3000000</td>\n",
       "    </tr>\n",
       "  </tbody>\n",
       "</table>\n",
       "</div>"
      ],
      "text/plain": [
       "   교수번호 교수이름 교수학과       임용일 교수직급       급여\n",
       "0   221  이병렬   전산  75/04/03  정교수  3000000"
      ]
     },
     "execution_count": 10,
     "metadata": {},
     "output_type": "execute_result"
    }
   ],
   "source": [
    "filt = prof['교수번호'] == 221\n",
    "prof[filt]"
   ]
  },
  {
   "cell_type": "code",
   "execution_count": 12,
   "id": "1c134418",
   "metadata": {},
   "outputs": [
    {
     "name": "stdout",
     "output_type": "stream",
     "text": [
      "<class 'pandas.core.frame.DataFrame'>\n",
      "RangeIndex: 4 entries, 0 to 3\n",
      "Data columns (total 6 columns):\n",
      " #   Column  Non-Null Count  Dtype \n",
      "---  ------  --------------  ----- \n",
      " 0   교수번호    4 non-null      int64 \n",
      " 1   교수이름    4 non-null      object\n",
      " 2   교수학과    4 non-null      object\n",
      " 3   임용일     4 non-null      object\n",
      " 4   교수직급    4 non-null      object\n",
      " 5   급여      4 non-null      int64 \n",
      "dtypes: int64(2), object(4)\n",
      "memory usage: 320.0+ bytes\n"
     ]
    }
   ],
   "source": [
    "prof.info()"
   ]
  },
  {
   "cell_type": "code",
   "execution_count": 13,
   "id": "b7b5deab",
   "metadata": {},
   "outputs": [
    {
     "name": "stdout",
     "output_type": "stream",
     "text": [
      "<class 'pandas.core.frame.DataFrame'>\n",
      "RangeIndex: 4 entries, 0 to 3\n",
      "Data columns (total 6 columns):\n",
      " #   Column  Non-Null Count  Dtype \n",
      "---  ------  --------------  ----- \n",
      " 0   교수번호    4 non-null      object\n",
      " 1   교수이름    4 non-null      object\n",
      " 2   교수학과    4 non-null      object\n",
      " 3   임용일     4 non-null      object\n",
      " 4   교수직급    4 non-null      object\n",
      " 5   급여      4 non-null      int64 \n",
      "dtypes: int64(1), object(5)\n",
      "memory usage: 320.0+ bytes\n"
     ]
    }
   ],
   "source": [
    "prof['교수번호'] = prof['교수번호'].astype(str)\n",
    "prof.info()"
   ]
  },
  {
   "cell_type": "code",
   "execution_count": 14,
   "id": "39c404f7",
   "metadata": {},
   "outputs": [
    {
     "data": {
      "text/html": [
       "<div>\n",
       "<style scoped>\n",
       "    .dataframe tbody tr th:only-of-type {\n",
       "        vertical-align: middle;\n",
       "    }\n",
       "\n",
       "    .dataframe tbody tr th {\n",
       "        vertical-align: top;\n",
       "    }\n",
       "\n",
       "    .dataframe thead th {\n",
       "        text-align: right;\n",
       "    }\n",
       "</style>\n",
       "<table border=\"1\" class=\"dataframe\">\n",
       "  <thead>\n",
       "    <tr style=\"text-align: right;\">\n",
       "      <th></th>\n",
       "      <th>교수이름</th>\n",
       "      <th>교수학과</th>\n",
       "      <th>임용일</th>\n",
       "      <th>교수직급</th>\n",
       "      <th>급여</th>\n",
       "    </tr>\n",
       "    <tr>\n",
       "      <th>교수번호</th>\n",
       "      <th></th>\n",
       "      <th></th>\n",
       "      <th></th>\n",
       "      <th></th>\n",
       "      <th></th>\n",
       "    </tr>\n",
       "  </thead>\n",
       "  <tbody>\n",
       "    <tr>\n",
       "      <th>221</th>\n",
       "      <td>이병렬</td>\n",
       "      <td>전산</td>\n",
       "      <td>75/04/03</td>\n",
       "      <td>정교수</td>\n",
       "      <td>3000000</td>\n",
       "    </tr>\n",
       "    <tr>\n",
       "      <th>228</th>\n",
       "      <td>이재광</td>\n",
       "      <td>전산</td>\n",
       "      <td>91/09/19</td>\n",
       "      <td>부교수</td>\n",
       "      <td>2500000</td>\n",
       "    </tr>\n",
       "    <tr>\n",
       "      <th>311</th>\n",
       "      <td>강승일</td>\n",
       "      <td>전자</td>\n",
       "      <td>94/06/09</td>\n",
       "      <td>부교수</td>\n",
       "      <td>2300000</td>\n",
       "    </tr>\n",
       "    <tr>\n",
       "      <th>509</th>\n",
       "      <td>오문환</td>\n",
       "      <td>건축</td>\n",
       "      <td>92/10/14</td>\n",
       "      <td>조교수</td>\n",
       "      <td>2000000</td>\n",
       "    </tr>\n",
       "  </tbody>\n",
       "</table>\n",
       "</div>"
      ],
      "text/plain": [
       "     교수이름 교수학과       임용일 교수직급       급여\n",
       "교수번호                                  \n",
       "221   이병렬   전산  75/04/03  정교수  3000000\n",
       "228   이재광   전산  91/09/19  부교수  2500000\n",
       "311   강승일   전자  94/06/09  부교수  2300000\n",
       "509   오문환   건축  92/10/14  조교수  2000000"
      ]
     },
     "execution_count": 14,
     "metadata": {},
     "output_type": "execute_result"
    }
   ],
   "source": [
    "prof.set_index('교수번호', inplace=True)\n",
    "prof"
   ]
  },
  {
   "cell_type": "code",
   "execution_count": 16,
   "id": "5fd04696",
   "metadata": {},
   "outputs": [
    {
     "data": {
      "text/plain": [
       "교수이름         이병렬\n",
       "교수학과          전산\n",
       "임용일     75/04/03\n",
       "교수직급         정교수\n",
       "급여       3000000\n",
       "Name: 221, dtype: object"
      ]
     },
     "execution_count": 16,
     "metadata": {},
     "output_type": "execute_result"
    }
   ],
   "source": [
    "prof.loc['221']"
   ]
  },
  {
   "cell_type": "code",
   "execution_count": 17,
   "id": "a6687e3a",
   "metadata": {},
   "outputs": [
    {
     "data": {
      "text/html": [
       "<div>\n",
       "<style scoped>\n",
       "    .dataframe tbody tr th:only-of-type {\n",
       "        vertical-align: middle;\n",
       "    }\n",
       "\n",
       "    .dataframe tbody tr th {\n",
       "        vertical-align: top;\n",
       "    }\n",
       "\n",
       "    .dataframe thead th {\n",
       "        text-align: right;\n",
       "    }\n",
       "</style>\n",
       "<table border=\"1\" class=\"dataframe\">\n",
       "  <thead>\n",
       "    <tr style=\"text-align: right;\">\n",
       "      <th></th>\n",
       "      <th>학생이름</th>\n",
       "      <th>학생학과</th>\n",
       "      <th>학년</th>\n",
       "      <th>생년월일</th>\n",
       "      <th>지도교수</th>\n",
       "    </tr>\n",
       "    <tr>\n",
       "      <th>학생번호</th>\n",
       "      <th></th>\n",
       "      <th></th>\n",
       "      <th></th>\n",
       "      <th></th>\n",
       "      <th></th>\n",
       "    </tr>\n",
       "  </thead>\n",
       "  <tbody>\n",
       "    <tr>\n",
       "      <th>92414029</th>\n",
       "      <td>서연우</td>\n",
       "      <td>전산</td>\n",
       "      <td>3</td>\n",
       "      <td>73/10/06</td>\n",
       "      <td>228</td>\n",
       "    </tr>\n",
       "    <tr>\n",
       "      <th>92414033</th>\n",
       "      <td>김창덕</td>\n",
       "      <td>전산</td>\n",
       "      <td>4</td>\n",
       "      <td>73/10/26</td>\n",
       "      <td>221</td>\n",
       "    </tr>\n",
       "    <tr>\n",
       "      <th>92514009</th>\n",
       "      <td>이지행</td>\n",
       "      <td>전자</td>\n",
       "      <td>4</td>\n",
       "      <td>73/11/16</td>\n",
       "      <td>311</td>\n",
       "    </tr>\n",
       "    <tr>\n",
       "      <th>92514023</th>\n",
       "      <td>김형명</td>\n",
       "      <td>전자</td>\n",
       "      <td>4</td>\n",
       "      <td>73/08/29</td>\n",
       "      <td>311</td>\n",
       "    </tr>\n",
       "    <tr>\n",
       "      <th>92454018</th>\n",
       "      <td>이원구</td>\n",
       "      <td>건축</td>\n",
       "      <td>3</td>\n",
       "      <td>74/09/30</td>\n",
       "      <td>509</td>\n",
       "    </tr>\n",
       "    <tr>\n",
       "      <th>95454003</th>\n",
       "      <td>이재영</td>\n",
       "      <td>건축</td>\n",
       "      <td>4</td>\n",
       "      <td>76/02/06</td>\n",
       "      <td>509</td>\n",
       "    </tr>\n",
       "    <tr>\n",
       "      <th>95414058</th>\n",
       "      <td>박혜경</td>\n",
       "      <td>전산</td>\n",
       "      <td>4</td>\n",
       "      <td>76/03/12</td>\n",
       "      <td>221</td>\n",
       "    </tr>\n",
       "    <tr>\n",
       "      <th>96414404</th>\n",
       "      <td>김수정</td>\n",
       "      <td>전산</td>\n",
       "      <td>3</td>\n",
       "      <td>77/12/22</td>\n",
       "      <td>228</td>\n",
       "    </tr>\n",
       "  </tbody>\n",
       "</table>\n",
       "</div>"
      ],
      "text/plain": [
       "         학생이름 학생학과  학년      생년월일  지도교수\n",
       "학생번호                                  \n",
       "92414029  서연우   전산   3  73/10/06   228\n",
       "92414033  김창덕   전산   4  73/10/26   221\n",
       "92514009  이지행   전자   4  73/11/16   311\n",
       "92514023  김형명   전자   4  73/08/29   311\n",
       "92454018  이원구   건축   3  74/09/30   509\n",
       "95454003  이재영   건축   4  76/02/06   509\n",
       "95414058  박혜경   전산   4  76/03/12   221\n",
       "96414404  김수정   전산   3  77/12/22   228"
      ]
     },
     "execution_count": 17,
     "metadata": {},
     "output_type": "execute_result"
    }
   ],
   "source": [
    "stu = pd.read_csv('학생.csv', index_col='학생번호')\n",
    "stu"
   ]
  },
  {
   "cell_type": "code",
   "execution_count": null,
   "id": "656960d6",
   "metadata": {},
   "outputs": [],
   "source": []
  },
  {
   "cell_type": "code",
   "execution_count": null,
   "id": "fbe883b0",
   "metadata": {},
   "outputs": [],
   "source": []
  },
  {
   "cell_type": "code",
   "execution_count": null,
   "id": "2368ae9e",
   "metadata": {},
   "outputs": [],
   "source": []
  },
  {
   "cell_type": "code",
   "execution_count": null,
   "id": "b059c4c0",
   "metadata": {},
   "outputs": [],
   "source": []
  },
  {
   "cell_type": "code",
   "execution_count": null,
   "id": "c7d759b8",
   "metadata": {},
   "outputs": [],
   "source": []
  },
  {
   "cell_type": "code",
   "execution_count": null,
   "id": "e8ec21c1",
   "metadata": {},
   "outputs": [],
   "source": []
  },
  {
   "cell_type": "code",
   "execution_count": null,
   "id": "bb0318c0",
   "metadata": {},
   "outputs": [],
   "source": []
  },
  {
   "cell_type": "code",
   "execution_count": null,
   "id": "7974f548",
   "metadata": {},
   "outputs": [],
   "source": []
  },
  {
   "cell_type": "code",
   "execution_count": null,
   "id": "ef4f8313",
   "metadata": {},
   "outputs": [],
   "source": []
  },
  {
   "cell_type": "code",
   "execution_count": null,
   "id": "3dd037fd",
   "metadata": {},
   "outputs": [],
   "source": []
  }
 ],
 "metadata": {
  "kernelspec": {
   "display_name": "Python 3",
   "language": "python",
   "name": "python3"
  },
  "language_info": {
   "codemirror_mode": {
    "name": "ipython",
    "version": 3
   },
   "file_extension": ".py",
   "mimetype": "text/x-python",
   "name": "python",
   "nbconvert_exporter": "python",
   "pygments_lexer": "ipython3",
   "version": "3.10.10"
  }
 },
 "nbformat": 4,
 "nbformat_minor": 5
}
