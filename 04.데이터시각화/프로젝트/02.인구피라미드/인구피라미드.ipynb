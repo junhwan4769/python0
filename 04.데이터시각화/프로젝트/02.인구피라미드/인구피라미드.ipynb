{
 "cells": [
  {
   "cell_type": "code",
   "execution_count": 1,
   "id": "92791a16",
   "metadata": {},
   "outputs": [],
   "source": [
    "import matplotlib.pyplot as plt\n",
    "\n",
    "plt.rc('font', family = 'Malgun Gothic')\n",
    "plt.rc('font', size = 10)\n",
    "plt.rc('axes', unicode_minus= False)"
   ]
  },
  {
   "cell_type": "code",
   "execution_count": 4,
   "id": "cc5274b3",
   "metadata": {},
   "outputs": [],
   "source": [
    "import warnings\n",
    "warnings.filterwarnings('ignore')"
   ]
  },
  {
   "cell_type": "code",
   "execution_count": 11,
   "id": "668ba860",
   "metadata": {},
   "outputs": [
    {
     "data": {
      "text/html": [
       "<div>\n",
       "<style scoped>\n",
       "    .dataframe tbody tr th:only-of-type {\n",
       "        vertical-align: middle;\n",
       "    }\n",
       "\n",
       "    .dataframe tbody tr th {\n",
       "        vertical-align: top;\n",
       "    }\n",
       "\n",
       "    .dataframe thead th {\n",
       "        text-align: right;\n",
       "    }\n",
       "</style>\n",
       "<table border=\"1\" class=\"dataframe\">\n",
       "  <thead>\n",
       "    <tr style=\"text-align: right;\">\n",
       "      <th></th>\n",
       "      <th>0~4세</th>\n",
       "      <th>5~9세</th>\n",
       "      <th>10~14세</th>\n",
       "      <th>15~19세</th>\n",
       "      <th>20~24세</th>\n",
       "      <th>25~29세</th>\n",
       "      <th>30~34세</th>\n",
       "      <th>35~39세</th>\n",
       "      <th>40~44세</th>\n",
       "      <th>45~49세</th>\n",
       "      <th>...</th>\n",
       "      <th>55~59세</th>\n",
       "      <th>60~64세</th>\n",
       "      <th>65~69세</th>\n",
       "      <th>70~74세</th>\n",
       "      <th>75~79세</th>\n",
       "      <th>80~84세</th>\n",
       "      <th>85~89세</th>\n",
       "      <th>90~94세</th>\n",
       "      <th>95~99세</th>\n",
       "      <th>100세 이상</th>\n",
       "    </tr>\n",
       "    <tr>\n",
       "      <th>행정기관</th>\n",
       "      <th></th>\n",
       "      <th></th>\n",
       "      <th></th>\n",
       "      <th></th>\n",
       "      <th></th>\n",
       "      <th></th>\n",
       "      <th></th>\n",
       "      <th></th>\n",
       "      <th></th>\n",
       "      <th></th>\n",
       "      <th></th>\n",
       "      <th></th>\n",
       "      <th></th>\n",
       "      <th></th>\n",
       "      <th></th>\n",
       "      <th></th>\n",
       "      <th></th>\n",
       "      <th></th>\n",
       "      <th></th>\n",
       "      <th></th>\n",
       "      <th></th>\n",
       "    </tr>\n",
       "  </thead>\n",
       "  <tbody>\n",
       "    <tr>\n",
       "      <th>전국</th>\n",
       "      <td>1173085</td>\n",
       "      <td>1192339</td>\n",
       "      <td>1314587</td>\n",
       "      <td>1718611</td>\n",
       "      <td>1867477</td>\n",
       "      <td>1644793</td>\n",
       "      <td>1941125</td>\n",
       "      <td>1994086</td>\n",
       "      <td>2269072</td>\n",
       "      <td>2259198</td>\n",
       "      <td>...</td>\n",
       "      <td>1979228</td>\n",
       "      <td>1372295</td>\n",
       "      <td>1025276</td>\n",
       "      <td>814679</td>\n",
       "      <td>557342</td>\n",
       "      <td>275691</td>\n",
       "      <td>100390</td>\n",
       "      <td>31277</td>\n",
       "      <td>6776</td>\n",
       "      <td>3719</td>\n",
       "    </tr>\n",
       "  </tbody>\n",
       "</table>\n",
       "<p>1 rows × 21 columns</p>\n",
       "</div>"
      ],
      "text/plain": [
       "         0~4세     5~9세   10~14세   15~19세   20~24세   25~29세   30~34세   35~39세  \\\n",
       "행정기관                                                                           \n",
       "전국    1173085  1192339  1314587  1718611  1867477  1644793  1941125  1994086   \n",
       "\n",
       "       40~44세   45~49세  ...   55~59세   60~64세   65~69세  70~74세  75~79세  \\\n",
       "행정기관                    ...                                              \n",
       "전국    2269072  2259198  ...  1979228  1372295  1025276  814679  557342   \n",
       "\n",
       "      80~84세  85~89세 90~94세 95~99세 100세 이상  \n",
       "행정기관                                        \n",
       "전국    275691  100390  31277   6776    3719  \n",
       "\n",
       "[1 rows x 21 columns]"
      ]
     },
     "execution_count": 11,
     "metadata": {},
     "output_type": "execute_result"
    }
   ],
   "source": [
    "import pandas as pd\n",
    "df_m = pd.read_excel('201508.xlsx', skiprows=3, index_col='행정기관', usecols='B, E:Y')\n",
    "df_m = df_m.head(1)\n",
    "df_m.iloc[0] = df_m.iloc[0].str.replace(',','').astype(int)\n",
    "df_m"
   ]
  },
  {
   "cell_type": "code",
   "execution_count": 14,
   "id": "5ba2d590",
   "metadata": {},
   "outputs": [
    {
     "data": {
      "text/html": [
       "<div>\n",
       "<style scoped>\n",
       "    .dataframe tbody tr th:only-of-type {\n",
       "        vertical-align: middle;\n",
       "    }\n",
       "\n",
       "    .dataframe tbody tr th {\n",
       "        vertical-align: top;\n",
       "    }\n",
       "\n",
       "    .dataframe thead th {\n",
       "        text-align: right;\n",
       "    }\n",
       "</style>\n",
       "<table border=\"1\" class=\"dataframe\">\n",
       "  <thead>\n",
       "    <tr style=\"text-align: right;\">\n",
       "      <th></th>\n",
       "      <th>0~4세.1</th>\n",
       "      <th>5~9세.1</th>\n",
       "      <th>10~14세.1</th>\n",
       "      <th>15~19세.1</th>\n",
       "      <th>20~24세.1</th>\n",
       "      <th>25~29세.1</th>\n",
       "      <th>30~34세.1</th>\n",
       "      <th>35~39세.1</th>\n",
       "      <th>40~44세.1</th>\n",
       "      <th>45~49세.1</th>\n",
       "      <th>...</th>\n",
       "      <th>55~59세.1</th>\n",
       "      <th>60~64세.1</th>\n",
       "      <th>65~69세.1</th>\n",
       "      <th>70~74세.1</th>\n",
       "      <th>75~79세.1</th>\n",
       "      <th>80~84세.1</th>\n",
       "      <th>85~89세.1</th>\n",
       "      <th>90~94세.1</th>\n",
       "      <th>95~99세.1</th>\n",
       "      <th>100세 이상.1</th>\n",
       "    </tr>\n",
       "    <tr>\n",
       "      <th>행정기관</th>\n",
       "      <th></th>\n",
       "      <th></th>\n",
       "      <th></th>\n",
       "      <th></th>\n",
       "      <th></th>\n",
       "      <th></th>\n",
       "      <th></th>\n",
       "      <th></th>\n",
       "      <th></th>\n",
       "      <th></th>\n",
       "      <th></th>\n",
       "      <th></th>\n",
       "      <th></th>\n",
       "      <th></th>\n",
       "      <th></th>\n",
       "      <th></th>\n",
       "      <th></th>\n",
       "      <th></th>\n",
       "      <th></th>\n",
       "      <th></th>\n",
       "      <th></th>\n",
       "    </tr>\n",
       "  </thead>\n",
       "  <tbody>\n",
       "    <tr>\n",
       "      <th>전국</th>\n",
       "      <td>1112595</td>\n",
       "      <td>1120826</td>\n",
       "      <td>1212596</td>\n",
       "      <td>1567890</td>\n",
       "      <td>1654096</td>\n",
       "      <td>1508164</td>\n",
       "      <td>1846288</td>\n",
       "      <td>1923126</td>\n",
       "      <td>2184993</td>\n",
       "      <td>2188595</td>\n",
       "      <td>...</td>\n",
       "      <td>1978251</td>\n",
       "      <td>1429060</td>\n",
       "      <td>1114108</td>\n",
       "      <td>1006343</td>\n",
       "      <td>817164</td>\n",
       "      <td>536925</td>\n",
       "      <td>276033</td>\n",
       "      <td>100463</td>\n",
       "      <td>23918</td>\n",
       "      <td>12108</td>\n",
       "    </tr>\n",
       "  </tbody>\n",
       "</table>\n",
       "<p>1 rows × 21 columns</p>\n",
       "</div>"
      ],
      "text/plain": [
       "       0~4세.1   5~9세.1 10~14세.1 15~19세.1 20~24세.1 25~29세.1 30~34세.1 35~39세.1  \\\n",
       "행정기관                                                                           \n",
       "전국    1112595  1120826  1212596  1567890  1654096  1508164  1846288  1923126   \n",
       "\n",
       "     40~44세.1 45~49세.1  ... 55~59세.1 60~64세.1 65~69세.1 70~74세.1 75~79세.1  \\\n",
       "행정기관                    ...                                                \n",
       "전국    2184993  2188595  ...  1978251  1429060  1114108  1006343   817164   \n",
       "\n",
       "     80~84세.1 85~89세.1 90~94세.1 95~99세.1 100세 이상.1  \n",
       "행정기관                                                \n",
       "전국     536925   276033   100463    23918     12108  \n",
       "\n",
       "[1 rows x 21 columns]"
      ]
     },
     "execution_count": 14,
     "metadata": {},
     "output_type": "execute_result"
    }
   ],
   "source": [
    "df_w = pd.read_excel('201508.xlsx', skiprows=3, index_col='행정기관', usecols='B, AB:AV')\n",
    "df_w = df_w.head(1)\n",
    "df_w.iloc[0] = df_w.iloc[0].str.replace(',','').astype(int)\n",
    "df_w"
   ]
  },
  {
   "cell_type": "code",
   "execution_count": 15,
   "id": "5c0dc02d",
   "metadata": {},
   "outputs": [
    {
     "data": {
      "text/plain": [
       "Index(['0~4세', '5~9세', '10~14세', '15~19세', '20~24세', '25~29세', '30~34세',\n",
       "       '35~39세', '40~44세', '45~49세', '50~54세', '55~59세', '60~64세', '65~69세',\n",
       "       '70~74세', '75~79세', '80~84세', '85~89세', '90~94세', '95~99세', '100세 이상'],\n",
       "      dtype='object')"
      ]
     },
     "execution_count": 15,
     "metadata": {},
     "output_type": "execute_result"
    }
   ],
   "source": [
    "df_m.columns"
   ]
  },
  {
   "cell_type": "code",
   "execution_count": null,
   "id": "1fc3f417",
   "metadata": {},
   "outputs": [
    {
     "data": {
      "text/plain": [
       "Index(['0~4세.1', '5~9세.1', '10~14세.1', '15~19세.1', '20~24세.1', '25~29세.1',\n",
       "       '30~34세.1', '35~39세.1', '40~44세.1', '45~49세.1', '50~54세.1', '55~59세.1',\n",
       "       '60~64세.1', '65~69세.1', '70~74세.1', '75~79세.1', '80~84세.1', '85~89세.1',\n",
       "       '90~94세.1', '95~99세.1', '100세 이상.1'],\n",
       "      dtype='object')"
      ]
     },
     "execution_count": 16,
     "metadata": {},
     "output_type": "execute_result"
    }
   ],
   "source": [
    "df_w.columns"
   ]
  },
  {
   "cell_type": "code",
   "execution_count": 17,
   "id": "032b6844",
   "metadata": {},
   "outputs": [
    {
     "data": {
      "text/plain": [
       "Index(['0~4세', '5~9세', '10~14세', '15~19세', '20~24세', '25~29세', '30~34세',\n",
       "       '35~39세', '40~44세', '45~49세', '50~54세', '55~59세', '60~64세', '65~69세',\n",
       "       '70~74세', '75~79세', '80~84세', '85~89세', '90~94세', '95~99세', '100세 이상'],\n",
       "      dtype='object')"
      ]
     },
     "execution_count": 17,
     "metadata": {},
     "output_type": "execute_result"
    }
   ],
   "source": [
    "df_w.columns=df_m.columns\n",
    "df_w.columns"
   ]
  },
  {
   "cell_type": "code",
   "execution_count": 26,
   "id": "55611d03",
   "metadata": {},
   "outputs": [
    {
     "data": {
      "image/png": "[encoded data removed]",
      "text/plain": [
       "<Figure size 1000x700 with 1 Axes>"
      ]
     },
     "metadata": {},
     "output_type": "display_data"
    }
   ],
   "source": [
    "plt.figure(figsize=(10,7))\n",
    "plt.barh(df_m.columns, -df_m.iloc[0]//1000, color='black')\n",
    "plt.barh(df_w.columns, df_w.iloc[0]//1000, color='gray')\n",
    "plt.title('2015년 대한민국 성별 인구 피라미드')\n",
    "plt.savefig('2015년.png')\n",
    "plt.show()"
   ]
  },
  {
   "cell_type": "code",
   "execution_count": 18,
   "id": "80091218",
   "metadata": {},
   "outputs": [
    {
     "data": {
      "text/plain": [
       "0~4세       1173085\n",
       "5~9세       1192339\n",
       "10~14세     1314587\n",
       "15~19세     1718611\n",
       "20~24세     1867477\n",
       "25~29세     1644793\n",
       "30~34세     1941125\n",
       "35~39세     1994086\n",
       "40~44세     2269072\n",
       "45~49세     2259198\n",
       "50~54세     2189166\n",
       "55~59세     1979228\n",
       "60~64세     1372295\n",
       "65~69세     1025276\n",
       "70~74세      814679\n",
       "75~79세      557342\n",
       "80~84세      275691\n",
       "85~89세      100390\n",
       "90~94세       31277\n",
       "95~99세        6776\n",
       "100세 이상       3719\n",
       "Name: 전국  , dtype: object"
      ]
     },
     "execution_count": 18,
     "metadata": {},
     "output_type": "execute_result"
    }
   ],
   "source": [
    "df_m.iloc[0]"
   ]
  },
  {
   "cell_type": "code",
   "execution_count": 27,
   "id": "be68d27f",
   "metadata": {},
   "outputs": [
    {
     "data": {
      "text/html": [
       "<div>\n",
       "<style scoped>\n",
       "    .dataframe tbody tr th:only-of-type {\n",
       "        vertical-align: middle;\n",
       "    }\n",
       "\n",
       "    .dataframe tbody tr th {\n",
       "        vertical-align: top;\n",
       "    }\n",
       "\n",
       "    .dataframe thead th {\n",
       "        text-align: right;\n",
       "    }\n",
       "</style>\n",
       "<table border=\"1\" class=\"dataframe\">\n",
       "  <thead>\n",
       "    <tr style=\"text-align: right;\">\n",
       "      <th></th>\n",
       "      <th>0~4세</th>\n",
       "      <th>5~9세</th>\n",
       "      <th>10~14세</th>\n",
       "      <th>15~19세</th>\n",
       "      <th>20~24세</th>\n",
       "      <th>25~29세</th>\n",
       "      <th>30~34세</th>\n",
       "      <th>35~39세</th>\n",
       "      <th>40~44세</th>\n",
       "      <th>45~49세</th>\n",
       "      <th>...</th>\n",
       "      <th>55~59세</th>\n",
       "      <th>60~64세</th>\n",
       "      <th>65~69세</th>\n",
       "      <th>70~74세</th>\n",
       "      <th>75~79세</th>\n",
       "      <th>80~84세</th>\n",
       "      <th>85~89세</th>\n",
       "      <th>90~94세</th>\n",
       "      <th>95~99세</th>\n",
       "      <th>100세 이상</th>\n",
       "    </tr>\n",
       "    <tr>\n",
       "      <th>행정기관</th>\n",
       "      <th></th>\n",
       "      <th></th>\n",
       "      <th></th>\n",
       "      <th></th>\n",
       "      <th></th>\n",
       "      <th></th>\n",
       "      <th></th>\n",
       "      <th></th>\n",
       "      <th></th>\n",
       "      <th></th>\n",
       "      <th></th>\n",
       "      <th></th>\n",
       "      <th></th>\n",
       "      <th></th>\n",
       "      <th></th>\n",
       "      <th></th>\n",
       "      <th></th>\n",
       "      <th></th>\n",
       "      <th></th>\n",
       "      <th></th>\n",
       "      <th></th>\n",
       "    </tr>\n",
       "  </thead>\n",
       "  <tbody>\n",
       "    <tr>\n",
       "      <th>전국</th>\n",
       "      <td>641290</td>\n",
       "      <td>901277</td>\n",
       "      <td>1189034</td>\n",
       "      <td>1188702</td>\n",
       "      <td>1302165</td>\n",
       "      <td>1701021</td>\n",
       "      <td>1848983</td>\n",
       "      <td>1629349</td>\n",
       "      <td>1916816</td>\n",
       "      <td>1959452</td>\n",
       "      <td>...</td>\n",
       "      <td>2169475</td>\n",
       "      <td>2062856</td>\n",
       "      <td>1818205</td>\n",
       "      <td>1206132</td>\n",
       "      <td>828257</td>\n",
       "      <td>542927</td>\n",
       "      <td>260321</td>\n",
       "      <td>72712</td>\n",
       "      <td>11686</td>\n",
       "      <td>1553</td>\n",
       "    </tr>\n",
       "  </tbody>\n",
       "</table>\n",
       "<p>1 rows × 21 columns</p>\n",
       "</div>"
      ],
      "text/plain": [
       "        0~4세    5~9세   10~14세   15~19세   20~24세   25~29세   30~34세   35~39세  \\\n",
       "행정기관                                                                         \n",
       "전국    641290  901277  1189034  1188702  1302165  1701021  1848983  1629349   \n",
       "\n",
       "       40~44세   45~49세  ...   55~59세   60~64세   65~69세   70~74세  75~79세  \\\n",
       "행정기관                    ...                                               \n",
       "전국    1916816  1959452  ...  2169475  2062856  1818205  1206132  828257   \n",
       "\n",
       "      80~84세  85~89세 90~94세 95~99세 100세 이상  \n",
       "행정기관                                        \n",
       "전국    542927  260321  72712  11686    1553  \n",
       "\n",
       "[1 rows x 21 columns]"
      ]
     },
     "execution_count": 27,
     "metadata": {},
     "output_type": "execute_result"
    }
   ],
   "source": [
    "df_m2 = pd.read_excel('202508.xlsx', skiprows=3, index_col='행정기관', usecols='B, E:Y')\n",
    "df_m2 = df_m2.head(1)\n",
    "df_m2.iloc[0] = df_m2.iloc[0].str.replace(',','').astype(int)\n",
    "df_m2"
   ]
  },
  {
   "cell_type": "code",
   "execution_count": 28,
   "id": "d938d4e8",
   "metadata": {},
   "outputs": [
    {
     "data": {
      "text/html": [
       "<div>\n",
       "<style scoped>\n",
       "    .dataframe tbody tr th:only-of-type {\n",
       "        vertical-align: middle;\n",
       "    }\n",
       "\n",
       "    .dataframe tbody tr th {\n",
       "        vertical-align: top;\n",
       "    }\n",
       "\n",
       "    .dataframe thead th {\n",
       "        text-align: right;\n",
       "    }\n",
       "</style>\n",
       "<table border=\"1\" class=\"dataframe\">\n",
       "  <thead>\n",
       "    <tr style=\"text-align: right;\">\n",
       "      <th></th>\n",
       "      <th>0~4세.1</th>\n",
       "      <th>5~9세.1</th>\n",
       "      <th>10~14세.1</th>\n",
       "      <th>15~19세.1</th>\n",
       "      <th>20~24세.1</th>\n",
       "      <th>25~29세.1</th>\n",
       "      <th>30~34세.1</th>\n",
       "      <th>35~39세.1</th>\n",
       "      <th>40~44세.1</th>\n",
       "      <th>45~49세.1</th>\n",
       "      <th>...</th>\n",
       "      <th>55~59세.1</th>\n",
       "      <th>60~64세.1</th>\n",
       "      <th>65~69세.1</th>\n",
       "      <th>70~74세.1</th>\n",
       "      <th>75~79세.1</th>\n",
       "      <th>80~84세.1</th>\n",
       "      <th>85~89세.1</th>\n",
       "      <th>90~94세.1</th>\n",
       "      <th>95~99세.1</th>\n",
       "      <th>100세 이상.1</th>\n",
       "    </tr>\n",
       "    <tr>\n",
       "      <th>행정기관</th>\n",
       "      <th></th>\n",
       "      <th></th>\n",
       "      <th></th>\n",
       "      <th></th>\n",
       "      <th></th>\n",
       "      <th></th>\n",
       "      <th></th>\n",
       "      <th></th>\n",
       "      <th></th>\n",
       "      <th></th>\n",
       "      <th></th>\n",
       "      <th></th>\n",
       "      <th></th>\n",
       "      <th></th>\n",
       "      <th></th>\n",
       "      <th></th>\n",
       "      <th></th>\n",
       "      <th></th>\n",
       "      <th></th>\n",
       "      <th></th>\n",
       "      <th></th>\n",
       "    </tr>\n",
       "  </thead>\n",
       "  <tbody>\n",
       "    <tr>\n",
       "      <th>전국</th>\n",
       "      <td>611205</td>\n",
       "      <td>856757</td>\n",
       "      <td>1130226</td>\n",
       "      <td>1122157</td>\n",
       "      <td>1209925</td>\n",
       "      <td>1566651</td>\n",
       "      <td>1660136</td>\n",
       "      <td>1515273</td>\n",
       "      <td>1837816</td>\n",
       "      <td>1902756</td>\n",
       "      <td>...</td>\n",
       "      <td>2148596</td>\n",
       "      <td>2072345</td>\n",
       "      <td>1916129</td>\n",
       "      <td>1358680</td>\n",
       "      <td>1013445</td>\n",
       "      <td>818992</td>\n",
       "      <td>525780</td>\n",
       "      <td>216904</td>\n",
       "      <td>51888</td>\n",
       "      <td>7338</td>\n",
       "    </tr>\n",
       "  </tbody>\n",
       "</table>\n",
       "<p>1 rows × 21 columns</p>\n",
       "</div>"
      ],
      "text/plain": [
       "      0~4세.1  5~9세.1 10~14세.1 15~19세.1 20~24세.1 25~29세.1 30~34세.1 35~39세.1  \\\n",
       "행정기관                                                                         \n",
       "전국    611205  856757  1130226  1122157  1209925  1566651  1660136  1515273   \n",
       "\n",
       "     40~44세.1 45~49세.1  ... 55~59세.1 60~64세.1 65~69세.1 70~74세.1 75~79세.1  \\\n",
       "행정기관                    ...                                                \n",
       "전국    1837816  1902756  ...  2148596  2072345  1916129  1358680  1013445   \n",
       "\n",
       "     80~84세.1 85~89세.1 90~94세.1 95~99세.1 100세 이상.1  \n",
       "행정기관                                                \n",
       "전국     818992   525780   216904    51888      7338  \n",
       "\n",
       "[1 rows x 21 columns]"
      ]
     },
     "execution_count": 28,
     "metadata": {},
     "output_type": "execute_result"
    }
   ],
   "source": [
    "df_w2 = pd.read_excel('202508.xlsx', skiprows=3, index_col='행정기관', usecols='B, AB:AV')\n",
    "df_w2 = df_w2.head(1)\n",
    "df_w2.iloc[0] = df_w2.iloc[0].str.replace(',','').astype(int)\n",
    "df_w2"
   ]
  },
  {
   "cell_type": "code",
   "execution_count": 29,
   "id": "d8ca5863",
   "metadata": {},
   "outputs": [],
   "source": [
    "df_w2.columns=df_m2.columns"
   ]
  },
  {
   "cell_type": "code",
   "execution_count": 30,
   "id": "1b9c08f2",
   "metadata": {},
   "outputs": [
    {
     "data": {
      "image/png": "[encoded data removed]",
      "text/plain": [
       "<Figure size 1000x700 with 1 Axes>"
      ]
     },
     "metadata": {},
     "output_type": "display_data"
    }
   ],
   "source": [
    "plt.figure(figsize=(10,7))\n",
    "plt.barh(df_m2.columns, -df_m2.iloc[0]//1000, color='black')\n",
    "plt.barh(df_w2.columns, df_w2.iloc[0]//1000, color='gray')\n",
    "plt.title('2025년 대한민국 성별 인구 피라미드')\n",
    "plt.savefig('2025년.png')\n",
    "plt.show()"
   ]
  }
 ],
 "metadata": {
  "kernelspec": {
   "display_name": "Python 3",
   "language": "python",
   "name": "python3"
  },
  "language_info": {
   "codemirror_mode": {
    "name": "ipython",
    "version": 3
   },
   "file_extension": ".py",
   "mimetype": "text/x-python",
   "name": "python",
   "nbconvert_exporter": "python",
   "pygments_lexer": "ipython3",
   "version": "3.10.10"
  }
 },
 "nbformat": 4,
 "nbformat_minor": 5
}
