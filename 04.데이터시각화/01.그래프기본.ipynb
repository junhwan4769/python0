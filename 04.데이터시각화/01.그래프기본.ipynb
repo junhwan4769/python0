{
 "cells": [
  {
   "cell_type": "code",
   "execution_count": 1,
   "id": "9a636386",
   "metadata": {},
   "outputs": [],
   "source": [
    "import matplotlib.pyplot as plt"
   ]
  },
  {
   "cell_type": "code",
   "execution_count": 4,
   "id": "b1e7f40f",
   "metadata": {},
   "outputs": [
    {
     "data": {
      "image/png": "[encoded data removed]",
      "text/plain": [
       "<Figure size 640x480 with 1 Axes>"
      ]
     },
     "metadata": {},
     "output_type": "display_data"
    }
   ],
   "source": [
    "x = [1,2,3]\n",
    "y = [2,4,8]\n",
    "plt.plot(x, y)\n",
    "plt.show()"
   ]
  },
  {
   "cell_type": "code",
   "execution_count": 7,
   "id": "b23ce7d0",
   "metadata": {},
   "outputs": [],
   "source": [
    "plt.rc('font', family = 'Malgun Gothic')\n",
    "plt.rc('font', size = 20)\n",
    "plt.rc('axes', unicode_minus= False)"
   ]
  },
  {
   "cell_type": "code",
   "execution_count": 9,
   "id": "4e51b01e",
   "metadata": {},
   "outputs": [
    {
     "data": {
      "text/plain": [
       "['STIXSizeThreeSym',\n",
       " 'cmtt10',\n",
       " 'STIXGeneral',\n",
       " 'DejaVu Sans',\n",
       " 'cmb10',\n",
       " 'DejaVu Sans',\n",
       " 'STIXGeneral',\n",
       " 'STIXNonUnicode',\n",
       " 'DejaVu Sans Display',\n",
       " 'STIXNonUnicode',\n",
       " 'STIXSizeFiveSym',\n",
       " 'cmex10',\n",
       " 'cmr10',\n",
       " 'STIXGeneral',\n",
       " 'cmmi10',\n",
       " 'STIXSizeFourSym',\n",
       " 'STIXGeneral',\n",
       " 'DejaVu Sans Mono',\n",
       " 'DejaVu Serif Display',\n",
       " 'STIXSizeOneSym',\n",
       " 'DejaVu Sans Mono',\n",
       " 'STIXNonUnicode',\n",
       " 'DejaVu Serif',\n",
       " 'STIXSizeThreeSym',\n",
       " 'DejaVu Sans',\n",
       " 'DejaVu Serif',\n",
       " 'STIXSizeTwoSym',\n",
       " 'STIXNonUnicode',\n",
       " 'DejaVu Serif',\n",
       " 'DejaVu Sans',\n",
       " 'DejaVu Serif',\n",
       " 'STIXSizeTwoSym',\n",
       " 'cmss10',\n",
       " 'STIXSizeFourSym',\n",
       " 'DejaVu Sans Mono',\n",
       " 'STIXSizeOneSym',\n",
       " 'DejaVu Sans Mono',\n",
       " 'cmsy10',\n",
       " 'Gulim',\n",
       " 'Noto Serif KR',\n",
       " 'Corbel',\n",
       " 'Verdana',\n",
       " 'Verdana',\n",
       " 'Comic Sans MS',\n",
       " 'Arial',\n",
       " 'Noto Sans KR',\n",
       " 'Gentium Book Basic',\n",
       " 'Nirmala UI',\n",
       " 'Constantia',\n",
       " 'Trebuchet MS',\n",
       " 'DejaVu Sans Mono',\n",
       " 'Segoe UI',\n",
       " 'Candara',\n",
       " 'Segoe Script',\n",
       " 'Caladea',\n",
       " 'Arial',\n",
       " 'OpenSymbol',\n",
       " 'Candara',\n",
       " 'Microsoft JhengHei',\n",
       " 'DejaVu Sans Mono',\n",
       " 'Arial',\n",
       " 'Corbel',\n",
       " 'DejaVu Serif',\n",
       " 'Gabriola',\n",
       " 'Comic Sans MS',\n",
       " 'Batang',\n",
       " 'Wingdings',\n",
       " 'SimSun',\n",
       " 'Malgun Gothic',\n",
       " 'SimSun-ExtB',\n",
       " 'DejaVu Sans',\n",
       " 'DejaVu Serif',\n",
       " 'Yu Gothic',\n",
       " 'Georgia',\n",
       " 'Cambria',\n",
       " 'Microsoft Sans Serif',\n",
       " 'Calibri',\n",
       " 'Microsoft Tai Le',\n",
       " 'Calibri',\n",
       " 'Georgia',\n",
       " 'Segoe UI',\n",
       " 'Consolas',\n",
       " 'Javanese Text',\n",
       " 'DejaVu Serif',\n",
       " 'Microsoft JhengHei',\n",
       " 'Leelawadee UI',\n",
       " 'Franklin Gothic Medium',\n",
       " 'Constantia',\n",
       " 'Courier New',\n",
       " 'Trebuchet MS',\n",
       " 'Segoe UI',\n",
       " 'Segoe UI',\n",
       " 'Segoe UI',\n",
       " 'Myanmar Text',\n",
       " 'DejaVu Sans Mono',\n",
       " 'Segoe UI',\n",
       " 'Symbol',\n",
       " 'Franklin Gothic Medium',\n",
       " 'Sitka',\n",
       " 'DejaVu Sans',\n",
       " 'DejaVu Serif',\n",
       " 'Corbel',\n",
       " 'Microsoft Yi Baiti',\n",
       " 'Calibri',\n",
       " 'Mongolian Baiti',\n",
       " 'DejaVu Serif',\n",
       " 'Consolas',\n",
       " 'Trebuchet MS',\n",
       " 'Courier New',\n",
       " 'Segoe UI',\n",
       " 'Microsoft New Tai Lue',\n",
       " 'Leelawadee UI',\n",
       " 'Malgun Gothic',\n",
       " 'Ebrima',\n",
       " 'Segoe Print',\n",
       " 'DejaVu Serif',\n",
       " 'Sitka',\n",
       " 'Lucida Sans Unicode',\n",
       " 'Calibri',\n",
       " 'Malgun Gothic',\n",
       " 'Gentium Book Basic',\n",
       " 'Caladea',\n",
       " 'Lucida Console',\n",
       " 'Segoe Fluent Icons',\n",
       " 'Verdana',\n",
       " 'Segoe UI',\n",
       " 'Corbel',\n",
       " 'Candara',\n",
       " 'Arial',\n",
       " 'HoloLens MDL2 Assets',\n",
       " 'DejaVu Serif',\n",
       " 'Microsoft PhagsPa',\n",
       " 'DejaVu Sans',\n",
       " 'Microsoft YaHei',\n",
       " 'Gentium Book Basic',\n",
       " 'Candara',\n",
       " 'DejaVu Sans',\n",
       " 'DejaVu Sans',\n",
       " 'Georgia',\n",
       " 'Times New Roman',\n",
       " 'Bahnschrift',\n",
       " 'Arial',\n",
       " 'Yu Gothic',\n",
       " 'DejaVu Sans',\n",
       " 'Palatino Linotype',\n",
       " 'Cambria',\n",
       " 'Gentium Basic',\n",
       " 'Webdings',\n",
       " 'Constantia',\n",
       " 'SimSun-ExtG',\n",
       " 'Palatino Linotype',\n",
       " 'Ink Free',\n",
       " 'Cambria',\n",
       " 'Tahoma',\n",
       " 'Sylfaen',\n",
       " 'Segoe UI Variable',\n",
       " 'Palatino Linotype',\n",
       " 'Tahoma',\n",
       " 'Caladea',\n",
       " 'Times New Roman',\n",
       " 'Microsoft New Tai Lue',\n",
       " 'DejaVu Sans',\n",
       " 'MingLiU-ExtB',\n",
       " 'Calibri',\n",
       " 'Segoe Print',\n",
       " 'Nirmala UI',\n",
       " 'Courier New',\n",
       " 'Microsoft Himalaya',\n",
       " 'Microsoft JhengHei',\n",
       " 'Comic Sans MS',\n",
       " 'Yu Gothic',\n",
       " 'Cambria',\n",
       " 'Times New Roman',\n",
       " 'Sans Serif Collection',\n",
       " 'Myanmar Text',\n",
       " 'Segoe UI',\n",
       " 'Gadugi',\n",
       " 'Microsoft Tai Le',\n",
       " 'Segoe UI',\n",
       " 'Segoe UI',\n",
       " 'Yu Gothic',\n",
       " 'Candara',\n",
       " 'Comic Sans MS',\n",
       " 'MS Gothic',\n",
       " 'Segoe MDL2 Assets',\n",
       " 'DejaVu Sans',\n",
       " 'Verdana',\n",
       " 'Palatino Linotype',\n",
       " 'MV Boli',\n",
       " 'Impact',\n",
       " 'Gentium Basic',\n",
       " 'DejaVu Serif',\n",
       " 'Consolas',\n",
       " 'Segoe UI',\n",
       " 'Constantia',\n",
       " 'Corbel',\n",
       " 'Carlito',\n",
       " 'DejaVu Sans',\n",
       " 'Consolas',\n",
       " 'Microsoft YaHei',\n",
       " 'Segoe UI Emoji',\n",
       " 'Candara',\n",
       " 'Georgia',\n",
       " 'Carlito',\n",
       " 'Carlito',\n",
       " 'Gentium Book Basic',\n",
       " 'Ebrima',\n",
       " 'Microsoft YaHei',\n",
       " 'Corbel',\n",
       " 'Courier New',\n",
       " 'Gentium Basic',\n",
       " 'DejaVu Sans Mono',\n",
       " 'Calibri',\n",
       " 'Times New Roman',\n",
       " 'Segoe UI Historic',\n",
       " 'Gentium Basic',\n",
       " 'Gadugi',\n",
       " 'Trebuchet MS',\n",
       " 'Caladea',\n",
       " 'Nirmala UI',\n",
       " 'Segoe UI Symbol',\n",
       " 'Carlito',\n",
       " 'Microsoft PhagsPa',\n",
       " 'Leelawadee UI',\n",
       " 'Segoe Script']"
      ]
     },
     "execution_count": 9,
     "metadata": {},
     "output_type": "execute_result"
    }
   ],
   "source": [
    "import matplotlib.font_manager as fm \n",
    "flist = fm.fontManager.ttflist\n",
    "[f.name for f in flist]"
   ]
  },
  {
   "cell_type": "code",
   "execution_count": 8,
   "id": "9f616f1f",
   "metadata": {},
   "outputs": [
    {
     "data": {
      "image/png": "[encoded data removed]",
      "text/plain": [
       "<Figure size 640x480 with 1 Axes>"
      ]
     },
     "metadata": {},
     "output_type": "display_data"
    }
   ],
   "source": [
    "plt.plot(x, y)\n",
    "plt.title('꺾은선 그래프')\n",
    "plt.show()"
   ]
  },
  {
   "cell_type": "code",
   "execution_count": 17,
   "id": "b99d117f",
   "metadata": {},
   "outputs": [
    {
     "data": {
      "image/png": "[encoded data removed]",
      "text/plain": [
       "<Figure size 640x480 with 1 Axes>"
      ]
     },
     "metadata": {},
     "output_type": "display_data"
    }
   ],
   "source": [
    "plt.title('꺾은선 그래프', size = 20)\n",
    "plt.plot(x ,y)\n",
    "plt.xlabel('X축', color = 'red', size = 15, loc='right')\n",
    "plt.ylabel('Y축', color = 'blue', size = 15, loc='top')\n",
    "plt.show()"
   ]
  },
  {
   "cell_type": "code",
   "execution_count": null,
   "id": "fe24cfaf",
   "metadata": {},
   "outputs": [
    {
     "data": {
      "image/png": "[encoded data removed]",
      "text/plain": [
       "<Figure size 640x480 with 1 Axes>"
      ]
     },
     "metadata": {},
     "output_type": "display_data"
    }
   ],
   "source": [
    "plt.plot(x,y)\n",
    "plt.xticks([-2, 1, 3, 5])\n",
    "plt.show()"
   ]
  },
  {
   "cell_type": "code",
   "execution_count": 26,
   "id": "0f61e20e",
   "metadata": {},
   "outputs": [
    {
     "data": {
      "image/png": "[encoded data removed]",
      "text/plain": [
       "<Figure size 640x480 with 1 Axes>"
      ]
     },
     "metadata": {},
     "output_type": "display_data"
    }
   ],
   "source": [
    "plt.plot(x,y)\n",
    "plt.xticks(x)\n",
    "plt.yticks([y for y in range(0,12,2)])\n",
    "plt.show()"
   ]
  },
  {
   "cell_type": "code",
   "execution_count": null,
   "id": "0368d8c0",
   "metadata": {},
   "outputs": [],
   "source": []
  },
  {
   "cell_type": "code",
   "execution_count": null,
   "id": "17beeadb",
   "metadata": {},
   "outputs": [],
   "source": []
  },
  {
   "cell_type": "code",
   "execution_count": null,
   "id": "62fd7784",
   "metadata": {},
   "outputs": [],
   "source": []
  },
  {
   "cell_type": "code",
   "execution_count": null,
   "id": "726cfe39",
   "metadata": {},
   "outputs": [],
   "source": []
  },
  {
   "cell_type": "code",
   "execution_count": null,
   "id": "4adfb895",
   "metadata": {},
   "outputs": [],
   "source": []
  },
  {
   "cell_type": "code",
   "execution_count": null,
   "id": "f1b038e3",
   "metadata": {},
   "outputs": [],
   "source": []
  },
  {
   "cell_type": "code",
   "execution_count": null,
   "id": "da4d5003",
   "metadata": {},
   "outputs": [],
   "source": []
  },
  {
   "cell_type": "code",
   "execution_count": null,
   "id": "85ee1e18",
   "metadata": {},
   "outputs": [],
   "source": []
  },
  {
   "cell_type": "code",
   "execution_count": null,
   "id": "8a09036f",
   "metadata": {},
   "outputs": [],
   "source": []
  },
  {
   "cell_type": "code",
   "execution_count": null,
   "id": "e3e403fb",
   "metadata": {},
   "outputs": [],
   "source": []
  },
  {
   "cell_type": "code",
   "execution_count": null,
   "id": "66532f30",
   "metadata": {},
   "outputs": [],
   "source": []
  },
  {
   "cell_type": "code",
   "execution_count": null,
   "id": "41f5acb3",
   "metadata": {},
   "outputs": [],
   "source": []
  },
  {
   "cell_type": "code",
   "execution_count": null,
   "id": "fcdddcb0",
   "metadata": {},
   "outputs": [],
   "source": []
  },
  {
   "cell_type": "code",
   "execution_count": null,
   "id": "e01799e4",
   "metadata": {},
   "outputs": [],
   "source": []
  }
 ],
 "metadata": {
  "kernelspec": {
   "display_name": "Python 3",
   "language": "python",
   "name": "python3"
  },
  "language_info": {
   "codemirror_mode": {
    "name": "ipython",
    "version": 3
   },
   "file_extension": ".py",
   "mimetype": "text/x-python",
   "name": "python",
   "nbconvert_exporter": "python",
   "pygments_lexer": "ipython3",
   "version": "3.10.10"
  }
 },
 "nbformat": 4,
 "nbformat_minor": 5
}
